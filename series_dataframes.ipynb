{
 "cells": [
  {
   "cell_type": "code",
   "execution_count": 47,
   "metadata": {},
   "outputs": [],
   "source": [
    "import pandas as pd"
   ]
  },
  {
   "cell_type": "markdown",
   "metadata": {},
   "source": [
    "Definir pandas series con su respectivo index"
   ]
  },
  {
   "cell_type": "code",
   "execution_count": 48,
   "metadata": {},
   "outputs": [],
   "source": [
    "players = pd.Series(['Navas', 'Mbappé', 'Neymar', 'Messi'], index = [1, 7, 10, 30])"
   ]
  },
  {
   "cell_type": "code",
   "execution_count": 49,
   "metadata": {},
   "outputs": [
    {
     "data": {
      "text/plain": [
       "1      Navas\n",
       "7     Mbappé\n",
       "10    Neymar\n",
       "30     Messi\n",
       "dtype: object"
      ]
     },
     "execution_count": 49,
     "metadata": {},
     "output_type": "execute_result"
    }
   ],
   "source": [
    "players"
   ]
  },
  {
   "cell_type": "markdown",
   "metadata": {},
   "source": [
    "Se pueden definir pd series como diccionarios"
   ]
  },
  {
   "cell_type": "code",
   "execution_count": 50,
   "metadata": {},
   "outputs": [
    {
     "data": {
      "text/plain": [
       "1      Navas\n",
       "7     Mbappe\n",
       "10    Neymar\n",
       "30     Messi\n",
       "dtype: object"
      ]
     },
     "execution_count": 50,
     "metadata": {},
     "output_type": "execute_result"
    }
   ],
   "source": [
    "players_dict = {1: 'Navas', 7:'Mbappe', 10:'Neymar', 30:'Messi'}\n",
    "pd.Series(players_dict)"
   ]
  },
  {
   "cell_type": "markdown",
   "metadata": {},
   "source": [
    "Es importante recordar que se accede por el index y no por el número de posición"
   ]
  },
  {
   "cell_type": "code",
   "execution_count": 51,
   "metadata": {},
   "outputs": [
    {
     "data": {
      "text/plain": [
       "'Navas'"
      ]
     },
     "execution_count": 51,
     "metadata": {},
     "output_type": "execute_result"
    }
   ],
   "source": [
    "players[1]"
   ]
  },
  {
   "cell_type": "markdown",
   "metadata": {},
   "source": [
    "Sin embargo, se puede hacer slicing"
   ]
  },
  {
   "cell_type": "code",
   "execution_count": 52,
   "metadata": {},
   "outputs": [
    {
     "data": {
      "text/plain": [
       "1      Navas\n",
       "7     Mbappé\n",
       "10    Neymar\n",
       "dtype: object"
      ]
     },
     "execution_count": 52,
     "metadata": {},
     "output_type": "execute_result"
    }
   ],
   "source": [
    "players[0:3]"
   ]
  },
  {
   "cell_type": "markdown",
   "metadata": {},
   "source": [
    "¿Qué pasa si quiero definir más parámetros? Hago un DataFrame"
   ]
  },
  {
   "cell_type": "code",
   "execution_count": 53,
   "metadata": {},
   "outputs": [],
   "source": [
    "players_dict_2 = {'Jugador': ['Navas', 'Mbappé', 'Neymar', 'Messi'], \n",
    "                  'Altura':[183,170,170,175], \n",
    "                  'Goles': [0, 180, 85, 44]}"
   ]
  },
  {
   "cell_type": "code",
   "execution_count": 54,
   "metadata": {},
   "outputs": [
    {
     "name": "stdout",
     "output_type": "stream",
     "text": [
      "   Jugador  Altura  Goles\n",
      "1    Navas     183      0\n",
      "7   Mbappé     170    180\n",
      "10  Neymar     170     85\n",
      "30   Messi     175     44\n"
     ]
    }
   ],
   "source": [
    "df_players = pd.DataFrame(players_dict_2, index = [1, 7, 10, 30])\n",
    "print(df_players)"
   ]
  },
  {
   "cell_type": "markdown",
   "metadata": {},
   "source": [
    "Puedo acceder al dataframe, sus columnas, su índice, etc."
   ]
  },
  {
   "cell_type": "code",
   "execution_count": 55,
   "metadata": {},
   "outputs": [
    {
     "data": {
      "text/plain": [
       "Index(['Jugador', 'Altura', 'Goles'], dtype='object')"
      ]
     },
     "execution_count": 55,
     "metadata": {},
     "output_type": "execute_result"
    }
   ],
   "source": [
    "df_players.columns"
   ]
  },
  {
   "cell_type": "code",
   "execution_count": 56,
   "metadata": {},
   "outputs": [
    {
     "data": {
      "text/plain": [
       "Index([1, 7, 10, 30], dtype='int64')"
      ]
     },
     "execution_count": 56,
     "metadata": {},
     "output_type": "execute_result"
    }
   ],
   "source": [
    "df_players.index"
   ]
  },
  {
   "cell_type": "markdown",
   "metadata": {},
   "source": [
    "## Reto: equipo de fútbol"
   ]
  },
  {
   "cell_type": "code",
   "execution_count": 58,
   "metadata": {},
   "outputs": [
    {
     "data": {
      "text/html": [
       "<div>\n",
       "<style scoped>\n",
       "    .dataframe tbody tr th:only-of-type {\n",
       "        vertical-align: middle;\n",
       "    }\n",
       "\n",
       "    .dataframe tbody tr th {\n",
       "        vertical-align: top;\n",
       "    }\n",
       "\n",
       "    .dataframe thead th {\n",
       "        text-align: right;\n",
       "    }\n",
       "</style>\n",
       "<table border=\"1\" class=\"dataframe\">\n",
       "  <thead>\n",
       "    <tr style=\"text-align: right;\">\n",
       "      <th></th>\n",
       "      <th>Nombre</th>\n",
       "      <th>Posición</th>\n",
       "      <th>Goles en la temporada</th>\n",
       "      <th>Asistencias en la temporada</th>\n",
       "      <th>G/A en la temporada</th>\n",
       "      <th>Valor de mercado</th>\n",
       "    </tr>\n",
       "  </thead>\n",
       "  <tbody>\n",
       "    <tr>\n",
       "      <th>11</th>\n",
       "      <td>Mohamed Salah</td>\n",
       "      <td>Delantero</td>\n",
       "      <td>20</td>\n",
       "      <td>10</td>\n",
       "      <td>30</td>\n",
       "      <td>€120M</td>\n",
       "    </tr>\n",
       "    <tr>\n",
       "      <th>10</th>\n",
       "      <td>Sadio Mané</td>\n",
       "      <td>Delantero</td>\n",
       "      <td>15</td>\n",
       "      <td>8</td>\n",
       "      <td>23</td>\n",
       "      <td>€100M</td>\n",
       "    </tr>\n",
       "    <tr>\n",
       "      <th>9</th>\n",
       "      <td>Roberto Firmino</td>\n",
       "      <td>Delantero</td>\n",
       "      <td>10</td>\n",
       "      <td>12</td>\n",
       "      <td>22</td>\n",
       "      <td>€90M</td>\n",
       "    </tr>\n",
       "    <tr>\n",
       "      <th>4</th>\n",
       "      <td>Virgil van Dijk</td>\n",
       "      <td>Defensa</td>\n",
       "      <td>2</td>\n",
       "      <td>1</td>\n",
       "      <td>3</td>\n",
       "      <td>€80M</td>\n",
       "    </tr>\n",
       "    <tr>\n",
       "      <th>66</th>\n",
       "      <td>Trent Alexander-Arnold</td>\n",
       "      <td>Defensa</td>\n",
       "      <td>5</td>\n",
       "      <td>12</td>\n",
       "      <td>17</td>\n",
       "      <td>€75M</td>\n",
       "    </tr>\n",
       "  </tbody>\n",
       "</table>\n",
       "</div>"
      ],
      "text/plain": [
       "                    Nombre   Posición  Goles en la temporada  \\\n",
       "11           Mohamed Salah  Delantero                     20   \n",
       "10              Sadio Mané  Delantero                     15   \n",
       "9          Roberto Firmino  Delantero                     10   \n",
       "4          Virgil van Dijk    Defensa                      2   \n",
       "66  Trent Alexander-Arnold    Defensa                      5   \n",
       "\n",
       "    Asistencias en la temporada  G/A en la temporada Valor de mercado  \n",
       "11                           10                   30            €120M  \n",
       "10                            8                   23            €100M  \n",
       "9                            12                   22             €90M  \n",
       "4                             1                    3             €80M  \n",
       "66                           12                   17             €75M  "
      ]
     },
     "execution_count": 58,
     "metadata": {},
     "output_type": "execute_result"
    }
   ],
   "source": [
    "data = {\n",
    "    'Nombre': ['Mohamed Salah', 'Sadio Mané', 'Roberto Firmino', 'Virgil van Dijk', 'Trent Alexander-Arnold'],\n",
    "    'Posición': ['Delantero', 'Delantero', 'Delantero', 'Defensa', 'Defensa'],\n",
    "    'Goles en la temporada': [20, 15, 10, 2, 5],\n",
    "    'Asistencias en la temporada': [10, 8, 12, 1, 12],\n",
    "    'G/A en la temporada': [30, 23, 22, 3, 17],\n",
    "    'Valor de mercado': ['€120M', '€100M', '€90M', '€80M', '€75M']\n",
    "}\n",
    "\n",
    "dorsales = [11, 10, 9, 4, 66]\n",
    "\n",
    "df_liverpool = pd.DataFrame(data, index=dorsales)\n",
    "\n",
    "df_liverpool\n"
   ]
  }
 ],
 "metadata": {
  "kernelspec": {
   "display_name": "base",
   "language": "python",
   "name": "python3"
  },
  "language_info": {
   "codemirror_mode": {
    "name": "ipython",
    "version": 3
   },
   "file_extension": ".py",
   "mimetype": "text/x-python",
   "name": "python",
   "nbconvert_exporter": "python",
   "pygments_lexer": "ipython3",
   "version": "3.11.3"
  },
  "orig_nbformat": 4
 },
 "nbformat": 4,
 "nbformat_minor": 2
}
